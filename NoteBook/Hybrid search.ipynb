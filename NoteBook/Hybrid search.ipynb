{
 "cells": [
  {
   "cell_type": "markdown",
   "metadata": {},
   "source": [
    "#\n",
    "\n",
    "```json\n",
    "{\n",
    "   \"vectorEmbeddings\": [\n",
    "       {\n",
    "           \"path\":\"/vector\",\n",
    "           \"dataType\":\"float32\",\n",
    "           \"distanceFunction\":\"cosine\",\n",
    "           \"dimensions\":3\n",
    "       },\n",
    "\n",
    "}\n",
    "```"
   ]
  },
  {
   "cell_type": "markdown",
   "metadata": {},
   "source": [
    "#\n",
    "\n",
    "```json\n",
    "{\n",
    "    \"defaultLanguage\": \"en-US\",\n",
    "    \"fullTextPaths\": [\n",
    "        {\n",
    "            \"path\": \"/text\",\n",
    "            \"language\": \"en-US\"\n",
    "        }\n",
    "    ]\n",
    "}\n",
    "```"
   ]
  },
  {
   "cell_type": "markdown",
   "metadata": {},
   "source": [
    "#\n",
    "\n",
    "```json\n",
    "{\n",
    "    \"indexingMode\": \"consistent\",\n",
    "    \"automatic\": true,\n",
    "    \"includedPaths\": [\n",
    "        {\n",
    "            \"path\": \"/*\"\n",
    "        }\n",
    "    ],\n",
    "    \"excludedPaths\": [\n",
    "        {\n",
    "            \"path\": \"/\\\"_etag\\\"/?\"\n",
    "        },\n",
    "        {\n",
    "            \"path\": \"/vector/*\"\n",
    "        }\n",
    "    ],\n",
    "    \"fullTextIndexes\": [\n",
    "        {\n",
    "            \"path\": \"/text\"\n",
    "        }\n",
    "    ],\n",
    "    \"vectorIndexes\": [\n",
    "        {\n",
    "            \"path\": \"/vector\",\n",
    "            \"type\": \"DiskANN\"\n",
    "        }\n",
    "    ]\n",
    "}\n",
    "```"
   ]
  },
  {
   "cell_type": "markdown",
   "metadata": {},
   "source": [
    "# \n",
    "```sql\n",
    "SELECT TOP @k *\n",
    "FROM c\n",
    "ORDER BY RANK RRF(VectorDistance(c.vector, @queryVector), FullTextScore(c.content, [@searchTerm1, @searchTerm2, ...]))\n",
    "```\n",
    "```sql\n",
    "SELECT TOP 10 * \n",
    "FROM c\n",
    "ORDER BY RANK RRF(VectorDistance(c.vector, [1,2,3]), FullTextScore(c.text, [\"text\", \"to\", \"search\", \"goes\" ,\"here])\n",
    "```"
   ]
  },
  {
   "cell_type": "markdown",
   "metadata": {},
   "source": [
    "#"
   ]
  }
 ],
 "metadata": {
  "language_info": {
   "name": "python"
  }
 },
 "nbformat": 4,
 "nbformat_minor": 2
}

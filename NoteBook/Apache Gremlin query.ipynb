{
 "cells": [
  {
   "cell_type": "code",
   "execution_count": 1,
   "metadata": {
    "dotnet_interactive": {
     "language": "csharp"
    },
    "polyglot_notebook": {
     "kernelName": "csharp"
    },
    "vscode": {
     "languageId": "polyglot-notebook"
    }
   },
   "outputs": [
    {
     "data": {
      "text/html": [
       "<div><div></div><div></div><div><strong>Installed Packages</strong><ul><li><span>Gremlin.Net, 3.7.3</span></li></ul></div></div>"
      ]
     },
     "metadata": {},
     "output_type": "display_data"
    }
   ],
   "source": [
    "#r \"nuget: Gremlin.Net, 3.7.3\""
   ]
  },
  {
   "cell_type": "code",
   "execution_count": null,
   "metadata": {
    "vscode": {
     "languageId": "polyglot-notebook"
    }
   },
   "outputs": [],
   "source": [
    "System.String accountName = Environment.GetEnvironmentVariable(\"COSMOS_GREMLIN_ENDPOINT\")!;\n",
    "System.String accountKey = Environment.GetEnvironmentVariable(\"COSMOS_GREMLIN_KEY\")!;"
   ]
  },
  {
   "cell_type": "code",
   "execution_count": null,
   "metadata": {
    "vscode": {
     "languageId": "polyglot-notebook"
    }
   },
   "outputs": [
    {
     "ename": "Error",
     "evalue": "System.UriFormatException: Invalid URI: The hostname could not be parsed.\r\n   at System.Uri.CreateThis(String uri, Boolean dontEscape, UriKind uriKind, UriCreationOptions& creationOptions)\r\n   at System.Uri..ctor(String uriString)\r\n   at Gremlin.Net.Driver.GremlinServer.CreateUri(String hostname, Int32 port, Boolean enableSsl) in /Users/coleg/apacheTinkerpop/tinkerpop/gremlin-dotnet/src/Gremlin.Net/Driver/GremlinServer.cs:line 68\r\n   at Gremlin.Net.Driver.GremlinServer..ctor(String hostname, Int32 port, Boolean enableSsl, String username, String password) in /Users/coleg/apacheTinkerpop/tinkerpop/gremlin-dotnet/src/Gremlin.Net/Driver/GremlinServer.cs:line 44\r\n   at Submission#2.<<Initialize>>d__0.MoveNext()\r\n--- End of stack trace from previous location ---\r\n   at Microsoft.CodeAnalysis.Scripting.ScriptExecutionState.RunSubmissionsAsync[TResult](ImmutableArray`1 precedingExecutors, Func`2 currentExecutor, StrongBox`1 exceptionHolderOpt, Func`2 catchExceptionOpt, CancellationToken cancellationToken)",
     "output_type": "error",
     "traceback": [
      "System.UriFormatException: Invalid URI: The hostname could not be parsed.\r\n",
      "   at System.Uri.CreateThis(String uri, Boolean dontEscape, UriKind uriKind, UriCreationOptions& creationOptions)\r\n",
      "   at System.Uri..ctor(String uriString)\r\n",
      "   at Gremlin.Net.Driver.GremlinServer.CreateUri(String hostname, Int32 port, Boolean enableSsl) in /Users/coleg/apacheTinkerpop/tinkerpop/gremlin-dotnet/src/Gremlin.Net/Driver/GremlinServer.cs:line 68\r\n",
      "   at Gremlin.Net.Driver.GremlinServer..ctor(String hostname, Int32 port, Boolean enableSsl, String username, String password) in /Users/coleg/apacheTinkerpop/tinkerpop/gremlin-dotnet/src/Gremlin.Net/Driver/GremlinServer.cs:line 44\r\n",
      "   at Submission#2.<<Initialize>>d__0.MoveNext()\r\n",
      "--- End of stack trace from previous location ---\r\n",
      "   at Microsoft.CodeAnalysis.Scripting.ScriptExecutionState.RunSubmissionsAsync[TResult](ImmutableArray`1 precedingExecutors, Func`2 currentExecutor, StrongBox`1 exceptionHolderOpt, Func`2 catchExceptionOpt, CancellationToken cancellationToken)"
     ]
    }
   ],
   "source": [
    "Gremlin.Net.Driver.GremlinServer server = new Gremlin.Net.Driver.GremlinServer(\n",
    "    hostname: $\"{accountName}.gremlin.cosmos.azure.com\",\n",
    "    port: 443,\n",
    "    username: \"/dbs/cosmicworks/colls/products\",\n",
    "    password: $\"{accountKey}\",\n",
    "    enableSsl: true\n",
    ");"
   ]
  },
  {
   "cell_type": "code",
   "execution_count": null,
   "metadata": {
    "vscode": {
     "languageId": "polyglot-notebook"
    }
   },
   "outputs": [
    {
     "ename": "Error",
     "evalue": "System.AggregateException: One or more errors occurred. (Object reference not set to an instance of an object.)\r\n ---> System.NullReferenceException: Object reference not set to an instance of an object.\r\n   at Gremlin.Net.Driver.ConnectionFactory.CreateConnection() in /Users/coleg/apacheTinkerpop/tinkerpop/gremlin-dotnet/src/Gremlin.Net/Driver/ConnectionFactory.cs:line 44\r\n   at Gremlin.Net.Driver.ConnectionPool.CreateNewConnectionAsync() in /Users/coleg/apacheTinkerpop/tinkerpop/gremlin-dotnet/src/Gremlin.Net/Driver/ConnectionPool.cs:line 162\r\n   at Gremlin.Net.Driver.ConnectionPool.FillPoolAsync() in /Users/coleg/apacheTinkerpop/tinkerpop/gremlin-dotnet/src/Gremlin.Net/Driver/ConnectionPool.cs:line 140\r\n   --- End of inner exception stack trace ---\r\n   at System.Threading.Tasks.Task.ThrowIfExceptional(Boolean includeTaskCanceledExceptions)\r\n   at System.Threading.Tasks.Task`1.GetResultCore(Boolean waitCompletionNotification)\r\n   at Gremlin.Net.Driver.ConnectionPool.FillPoolAsync() in /Users/coleg/apacheTinkerpop/tinkerpop/gremlin-dotnet/src/Gremlin.Net/Driver/ConnectionPool.cs:line 149\r\n   at Gremlin.Net.Driver.ConnectionPool.ReplaceDeadConnectionsAsync() in /Users/coleg/apacheTinkerpop/tinkerpop/gremlin-dotnet/src/Gremlin.Net/Driver/ConnectionPool.cs:line 110\r\n   at Gremlin.Net.Process.Utils.WaitUnwrap(Task task) in /Users/coleg/apacheTinkerpop/tinkerpop/gremlin-dotnet/src/Gremlin.Net/Process/Utils.cs:line 58\r\n   at Gremlin.Net.Driver.ConnectionPool..ctor(IConnectionFactory connectionFactory, ConnectionPoolSettings settings, ILogger`1 logger) in /Users/coleg/apacheTinkerpop/tinkerpop/gremlin-dotnet/src/Gremlin.Net/Driver/ConnectionPool.cs:line 59\r\n   at Gremlin.Net.Driver.GremlinClient..ctor(GremlinServer gremlinServer, IMessageSerializer messageSerializer, ConnectionPoolSettings connectionPoolSettings, Action`1 webSocketConfiguration, String sessionId, Boolean disableCompression, ILoggerFactory loggerFactory) in /Users/coleg/apacheTinkerpop/tinkerpop/gremlin-dotnet/src/Gremlin.Net/Driver/GremlinClient.cs:line 205\r\n   at Submission#7.<<Initialize>>d__0.MoveNext()\r\n--- End of stack trace from previous location ---\r\n   at Microsoft.CodeAnalysis.Scripting.ScriptExecutionState.RunSubmissionsAsync[TResult](ImmutableArray`1 precedingExecutors, Func`2 currentExecutor, StrongBox`1 exceptionHolderOpt, Func`2 catchExceptionOpt, CancellationToken cancellationToken)",
     "output_type": "error",
     "traceback": [
      "System.AggregateException: One or more errors occurred. (Object reference not set to an instance of an object.)\r\n",
      " ---> System.NullReferenceException: Object reference not set to an instance of an object.\r\n",
      "   at Gremlin.Net.Driver.ConnectionFactory.CreateConnection() in /Users/coleg/apacheTinkerpop/tinkerpop/gremlin-dotnet/src/Gremlin.Net/Driver/ConnectionFactory.cs:line 44\r\n",
      "   at Gremlin.Net.Driver.ConnectionPool.CreateNewConnectionAsync() in /Users/coleg/apacheTinkerpop/tinkerpop/gremlin-dotnet/src/Gremlin.Net/Driver/ConnectionPool.cs:line 162\r\n",
      "   at Gremlin.Net.Driver.ConnectionPool.FillPoolAsync() in /Users/coleg/apacheTinkerpop/tinkerpop/gremlin-dotnet/src/Gremlin.Net/Driver/ConnectionPool.cs:line 140\r\n",
      "   --- End of inner exception stack trace ---\r\n",
      "   at System.Threading.Tasks.Task.ThrowIfExceptional(Boolean includeTaskCanceledExceptions)\r\n",
      "   at System.Threading.Tasks.Task`1.GetResultCore(Boolean waitCompletionNotification)\r\n",
      "   at Gremlin.Net.Driver.ConnectionPool.FillPoolAsync() in /Users/coleg/apacheTinkerpop/tinkerpop/gremlin-dotnet/src/Gremlin.Net/Driver/ConnectionPool.cs:line 149\r\n",
      "   at Gremlin.Net.Driver.ConnectionPool.ReplaceDeadConnectionsAsync() in /Users/coleg/apacheTinkerpop/tinkerpop/gremlin-dotnet/src/Gremlin.Net/Driver/ConnectionPool.cs:line 110\r\n",
      "   at Gremlin.Net.Process.Utils.WaitUnwrap(Task task) in /Users/coleg/apacheTinkerpop/tinkerpop/gremlin-dotnet/src/Gremlin.Net/Process/Utils.cs:line 58\r\n",
      "   at Gremlin.Net.Driver.ConnectionPool..ctor(IConnectionFactory connectionFactory, ConnectionPoolSettings settings, ILogger`1 logger) in /Users/coleg/apacheTinkerpop/tinkerpop/gremlin-dotnet/src/Gremlin.Net/Driver/ConnectionPool.cs:line 59\r\n",
      "   at Gremlin.Net.Driver.GremlinClient..ctor(GremlinServer gremlinServer, IMessageSerializer messageSerializer, ConnectionPoolSettings connectionPoolSettings, Action`1 webSocketConfiguration, String sessionId, Boolean disableCompression, ILoggerFactory loggerFactory) in /Users/coleg/apacheTinkerpop/tinkerpop/gremlin-dotnet/src/Gremlin.Net/Driver/GremlinClient.cs:line 205\r\n",
      "   at Submission#7.<<Initialize>>d__0.MoveNext()\r\n",
      "--- End of stack trace from previous location ---\r\n",
      "   at Microsoft.CodeAnalysis.Scripting.ScriptExecutionState.RunSubmissionsAsync[TResult](ImmutableArray`1 precedingExecutors, Func`2 currentExecutor, StrongBox`1 exceptionHolderOpt, Func`2 catchExceptionOpt, CancellationToken cancellationToken)"
     ]
    }
   ],
   "source": [
    "Gremlin.Net.Driver.GremlinClient client = new Gremlin.Net.Driver.GremlinClient(\n",
    "    gremlinServer: server,\n",
    "    messageSerializer: new Gremlin.Net.Structure.IO.GraphSON.GraphSON2MessageSerializer()\n",
    ");"
   ]
  },
  {
   "cell_type": "code",
   "execution_count": null,
   "metadata": {
    "vscode": {
     "languageId": "polyglot-notebook"
    }
   },
   "outputs": [
    {
     "ename": "Error",
     "evalue": "System.NullReferenceException: Object reference not set to an instance of an object.\r\n   at Gremlin.Net.Driver.GremlinClientExtensions.SubmitAsync[T](IGremlinClient gremlinClient, String requestScript, Dictionary`2 bindings, CancellationToken cancellationToken)\r\n   at Gremlin.Net.Driver.GremlinClientExtensions.SubmitAsync(IGremlinClient gremlinClient, String requestScript, Dictionary`2 bindings, CancellationToken cancellationToken) in /Users/coleg/apacheTinkerpop/tinkerpop/gremlin-dotnet/src/Gremlin.Net/Driver/GremlinClientExtensions.cs:line 105\r\n   at Submission#6.<<Initialize>>d__0.MoveNext()\r\n--- End of stack trace from previous location ---\r\n   at Microsoft.CodeAnalysis.Scripting.ScriptExecutionState.RunSubmissionsAsync[TResult](ImmutableArray`1 precedingExecutors, Func`2 currentExecutor, StrongBox`1 exceptionHolderOpt, Func`2 catchExceptionOpt, CancellationToken cancellationToken)",
     "output_type": "error",
     "traceback": [
      "System.NullReferenceException: Object reference not set to an instance of an object.\r\n",
      "   at Gremlin.Net.Driver.GremlinClientExtensions.SubmitAsync[T](IGremlinClient gremlinClient, String requestScript, Dictionary`2 bindings, CancellationToken cancellationToken)\r\n",
      "   at Gremlin.Net.Driver.GremlinClientExtensions.SubmitAsync(IGremlinClient gremlinClient, String requestScript, Dictionary`2 bindings, CancellationToken cancellationToken) in /Users/coleg/apacheTinkerpop/tinkerpop/gremlin-dotnet/src/Gremlin.Net/Driver/GremlinClientExtensions.cs:line 105\r\n",
      "   at Submission#6.<<Initialize>>d__0.MoveNext()\r\n",
      "--- End of stack trace from previous location ---\r\n",
      "   at Microsoft.CodeAnalysis.Scripting.ScriptExecutionState.RunSubmissionsAsync[TResult](ImmutableArray`1 precedingExecutors, Func`2 currentExecutor, StrongBox`1 exceptionHolderOpt, Func`2 catchExceptionOpt, CancellationToken cancellationToken)"
     ]
    }
   ],
   "source": [
    "System.String addProductQueryString = \"\"\"\n",
    "g.addV('product').property('id', '68719518371').property('name', 'Kiama classic surfboard').property('price', 285.55).property('category', 'surfboards')\n",
    "\"\"\";\n",
    "await client.SubmitAsync(\n",
    "    requestScript: addProductQueryString\n",
    ");"
   ]
  },
  {
   "cell_type": "code",
   "execution_count": null,
   "metadata": {
    "vscode": {
     "languageId": "polyglot-notebook"
    }
   },
   "outputs": [
    {
     "ename": "Error",
     "evalue": "(5,3): error CS8997: Unterminated raw string literal.",
     "output_type": "error",
     "traceback": [
      "(5,3): error CS8997: Unterminated raw string literal."
     ]
    }
   ],
   "source": [
    "System.String addAnotherProductQueryString = \"\"\"\n",
    "g.addV('product').property('id', '68719518403').property('name', 'Montau Turtle Surfboard').property('price', 600.00).property('category', 'surfboards')\n",
    "\"\"\";\n",
    "await client.SubmitAsync(\n",
    "    requestScript: addAnotherProductQueryString\n",
    ");"
   ]
  },
  {
   "cell_type": "code",
   "execution_count": 28,
   "metadata": {
    "vscode": {
     "languageId": "polyglot-notebook"
    }
   },
   "outputs": [
    {
     "ename": "Error",
     "evalue": "System.NullReferenceException: Object reference not set to an instance of an object.\r\n   at Gremlin.Net.Driver.GremlinClientExtensions.SubmitAsync[T](IGremlinClient gremlinClient, String requestScript, Dictionary`2 bindings, CancellationToken cancellationToken)\r\n   at Gremlin.Net.Driver.GremlinClientExtensions.SubmitAsync(IGremlinClient gremlinClient, String requestScript, Dictionary`2 bindings, CancellationToken cancellationToken) in /Users/coleg/apacheTinkerpop/tinkerpop/gremlin-dotnet/src/Gremlin.Net/Driver/GremlinClientExtensions.cs:line 105\r\n   at Submission#22.<<Initialize>>d__0.MoveNext()\r\n--- End of stack trace from previous location ---\r\n   at Microsoft.CodeAnalysis.Scripting.ScriptExecutionState.RunSubmissionsAsync[TResult](ImmutableArray`1 precedingExecutors, Func`2 currentExecutor, StrongBox`1 exceptionHolderOpt, Func`2 catchExceptionOpt, CancellationToken cancellationToken)",
     "output_type": "error",
     "traceback": [
      "System.NullReferenceException: Object reference not set to an instance of an object.\r\n",
      "   at Gremlin.Net.Driver.GremlinClientExtensions.SubmitAsync[T](IGremlinClient gremlinClient, String requestScript, Dictionary`2 bindings, CancellationToken cancellationToken)\r\n",
      "   at Gremlin.Net.Driver.GremlinClientExtensions.SubmitAsync(IGremlinClient gremlinClient, String requestScript, Dictionary`2 bindings, CancellationToken cancellationToken) in /Users/coleg/apacheTinkerpop/tinkerpop/gremlin-dotnet/src/Gremlin.Net/Driver/GremlinClientExtensions.cs:line 105\r\n",
      "   at Submission#22.<<Initialize>>d__0.MoveNext()\r\n",
      "--- End of stack trace from previous location ---\r\n",
      "   at Microsoft.CodeAnalysis.Scripting.ScriptExecutionState.RunSubmissionsAsync[TResult](ImmutableArray`1 precedingExecutors, Func`2 currentExecutor, StrongBox`1 exceptionHolderOpt, Func`2 catchExceptionOpt, CancellationToken cancellationToken)"
     ]
    }
   ],
   "source": [
    "System.String addOneAfterAnotherProductQueryString = \"\"\"\n",
    "g.addV('product').property('id', '68719518409').property('name', 'Bondi Twin Surfboard').property('price', 585.50).property('category', 'surfboards')\n",
    "\"\"\";\n",
    "await client.SubmitAsync(\n",
    "    requestScript: \"g.addV('product').property('id', '68719518409').property('name', 'Bondi Twin Surfboard').property('price', 585.50).property('category', 'surfboards')\"\n",
    ");"
   ]
  },
  {
   "cell_type": "code",
   "execution_count": null,
   "metadata": {
    "vscode": {
     "languageId": "polyglot-notebook"
    }
   },
   "outputs": [],
   "source": [
    "await client.SubmitAsync(\n",
    "    requestScript: \"g.V(['surfboards', '68719518403']).addE('replaces').to(g.V(['surfboards', '68719518371']))\"\n",
    ");"
   ]
  },
  {
   "cell_type": "code",
   "execution_count": null,
   "metadata": {
    "vscode": {
     "languageId": "polyglot-notebook"
    }
   },
   "outputs": [],
   "source": [
    "await client.SubmitAsync(\n",
    "    requestScript: \"g.V(['surfboards', '68719518403']).addE('replaces').to(g.V(['surfboards', '68719518409']))\"\n",
    ");"
   ]
  },
  {
   "cell_type": "code",
   "execution_count": null,
   "metadata": {
    "vscode": {
     "languageId": "polyglot-notebook"
    }
   },
   "outputs": [],
   "source": [
    "System.Collections.Generic.Dictionary<string, object> results = await client.SubmitAsync<System.Collections.Generic.Dictionary<string, object>>(\n",
    "    requestScript: \"g.V().hasLabel('product').has('category', 'surfboards').has('name', 'Montau Turtle Surfboard').outE('replaces').inV()\"\n",
    ");"
   ]
  },
  {
   "cell_type": "code",
   "execution_count": null,
   "metadata": {
    "vscode": {
     "languageId": "polyglot-notebook"
    }
   },
   "outputs": [
    {
     "ename": "Error",
     "evalue": "System.NullReferenceException: Object reference not set to an instance of an object.\r\n   at Gremlin.Net.Driver.GremlinClientExtensions.SubmitAsync[T](IGremlinClient gremlinClient, String requestScript, Dictionary`2 bindings, CancellationToken cancellationToken)\r\n   at Submission#23.<<Initialize>>d__0.MoveNext()\r\n--- End of stack trace from previous location ---\r\n   at Microsoft.CodeAnalysis.Scripting.ScriptExecutionState.RunSubmissionsAsync[TResult](ImmutableArray`1 precedingExecutors, Func`2 currentExecutor, StrongBox`1 exceptionHolderOpt, Func`2 catchExceptionOpt, CancellationToken cancellationToken)",
     "output_type": "error",
     "traceback": [
      "System.NullReferenceException: Object reference not set to an instance of an object.\r\n",
      "   at Gremlin.Net.Driver.GremlinClientExtensions.SubmitAsync[T](IGremlinClient gremlinClient, String requestScript, Dictionary`2 bindings, CancellationToken cancellationToken)\r\n",
      "   at Submission#23.<<Initialize>>d__0.MoveNext()\r\n",
      "--- End of stack trace from previous location ---\r\n",
      "   at Microsoft.CodeAnalysis.Scripting.ScriptExecutionState.RunSubmissionsAsync[TResult](ImmutableArray`1 precedingExecutors, Func`2 currentExecutor, StrongBox`1 exceptionHolderOpt, Func`2 catchExceptionOpt, CancellationToken cancellationToken)"
     ]
    }
   ],
   "source": [
    "System.Collections.Generic.Dictionary<string, object> results = await client.SubmitAsync<System.Collections.Generic.Dictionary<string, object>>(\n",
    "    requestScript: \"g.V().hasLabel('product').has('category', 'surfboards').has('name', 'Montau Turtle Surfboard').outE('replaces').inV()\"\n",
    ");"
   ]
  },
  {
   "cell_type": "code",
   "execution_count": null,
   "metadata": {
    "vscode": {
     "languageId": "polyglot-notebook"
    }
   },
   "outputs": [
    {
     "ename": "Error",
     "evalue": "(2,24): error CS0103: The name 'results' does not exist in the current context",
     "output_type": "error",
     "traceback": [
      "(2,24): error CS0103: The name 'results' does not exist in the current context"
     ]
    }
   ],
   "source": [
    "Console.WriteLine($\"[CREATED PRODUCT]\\t68719518403\");\n",
    "foreach (var result in results ?? Enumerable.Empty<System.Collections.Generic.Dictionary<string, object>>())\n",
    "{\n",
    "    Console.WriteLine($\"[REPLACES PRODUCT]\\t{result[\"id\"]}\");\n",
    "}"
   ]
  },
  {
   "cell_type": "code",
   "execution_count": 13,
   "metadata": {
    "dotnet_interactive": {
     "language": "kql"
    },
    "polyglot_notebook": {
     "kernelName": "kql"
    },
    "vscode": {
     "languageId": "polyglot-notebook"
    }
   },
   "outputs": [
    {
     "data": {
      "text/html": [
       "<p>A KQL connection has not been established.</p>\r\n",
       "<p>To connect to a database, first add the KQL extension package by running the following in a C# cell:</p>\r\n",
       "<code>\r\n",
       "    <pre>\r\n",
       "    #r \"nuget:Microsoft.DotNet.Interactive.Kql,1.0.0-beta.25110.2\"\r\n",
       "    </pre>\r\n",
       "</code>\r\n",
       "Now, you can connect to a Microsoft Kusto Server database by running the following in a C# cell:\r\n",
       "<code>\r\n",
       "    <pre>\r\n",
       "    #!connect kql --kernel-name mydatabase --cluster \"https://help.kusto.windows.net\" --database \"Samples\"\r\n",
       "    </pre>\r\n",
       "</code>\r\n",
       "<p>Once a connection is established, you can send KQL statements by prefixing them with the magic command for your connection.</p>\r\n",
       "<code>\r\n",
       "    <pre>\r\n",
       "#!kql-mydatabase\r\n",
       "source\r\n",
       "| where StatusCode != 200 // searching for requests that are not successful\r\n",
       "| project-away Type, TenantId\r\n",
       "    </pre>\r\n",
       "</code>\r\n"
      ]
     },
     "metadata": {},
     "output_type": "display_data"
    },
    {
     "ename": "Error",
     "evalue": "KQL statements cannot be executed in this kernel.",
     "output_type": "error",
     "traceback": [
      "KQL statements cannot be executed in this kernel."
     ]
    }
   ],
   "source": [
    "source\n",
    "| where StatusCode != 200 // searching for requests that are not successful\n",
    "| project-away Type, TenantId"
   ]
  },
  {
   "cell_type": "code",
   "execution_count": 14,
   "metadata": {
    "vscode": {
     "languageId": "polyglot-notebook"
    }
   },
   "outputs": [
    {
     "data": {
      "text/html": [
       "<div><div></div><div></div><div><strong>Installed Packages</strong><ul><li><span>Microsoft.DotNet.Interactive.Kql, 1.0.0-beta.25110.2</span></li></ul></div></div>"
      ]
     },
     "metadata": {},
     "output_type": "display_data"
    },
    {
     "data": {
      "text/plain": [
       "Loading extension script from `C:\\Users\\Owner\\.nuget\\packages\\microsoft.dotnet.interactive.kql\\1.0.0-beta.25110.2\\interactive-extensions\\dotnet\\extension.dib`"
      ]
     },
     "metadata": {},
     "output_type": "display_data"
    },
    {
     "data": {
      "text/html": [
       "<details><summary>Query Microsoft Kusto Server databases.</summary>\r\n",
       "        <p>This extension adds support for connecting to Microsoft Kusto Server databases using the <code>#!connect kql</code> magic command. For more information, run a cell using the <code>#!kql</code> magic command.</p>\r\n",
       "        </details>"
      ]
     },
     "metadata": {},
     "output_type": "display_data"
    }
   ],
   "source": [
    "#r \"nuget:Microsoft.DotNet.Interactive.Kql,1.0.0-beta.25110.2\""
   ]
  },
  {
   "cell_type": "code",
   "execution_count": 17,
   "metadata": {
    "vscode": {
     "languageId": "polyglot-notebook"
    }
   },
   "outputs": [
    {
     "data": {
      "text/plain": [
       "Kernel added: #!kql-mydatabase"
      ]
     },
     "metadata": {},
     "output_type": "display_data"
    }
   ],
   "source": [
    "#!connect kql --kernel-name mydatabase --cluster \"https://help.kusto.windows.net\" --database \"Samples\""
   ]
  },
  {
   "cell_type": "code",
   "execution_count": 18,
   "metadata": {
    "dotnet_interactive": {
     "language": "kql"
    },
    "polyglot_notebook": {
     "kernelName": "kql"
    },
    "vscode": {
     "languageId": "polyglot-notebook"
    }
   },
   "outputs": [
    {
     "data": {
      "text/html": [
       "<div><p>You can send KQL statements to one of the following connected KQL kernels:</p><code><pre>#!kql-mydatabase\n",
       "source\r\n",
       "| where StatusCode != 200 // searching for requests that are not successful\r\n",
       "| project-away Type, TenantId</pre></code></div>"
      ]
     },
     "metadata": {},
     "output_type": "display_data"
    },
    {
     "ename": "Error",
     "evalue": "KQL statements cannot be executed in this kernel.",
     "output_type": "error",
     "traceback": [
      "KQL statements cannot be executed in this kernel."
     ]
    }
   ],
   "source": [
    "source\n",
    "| where StatusCode != 200 // searching for requests that are not successful\n",
    "| project-away Type, TenantId"
   ]
  },
  {
   "cell_type": "code",
   "execution_count": 19,
   "metadata": {
    "vscode": {
     "languageId": "polyglot-notebook"
    }
   },
   "outputs": [
    {
     "ename": "Error",
     "evalue": "Query failed: One or more errors occurred. (Semantic error: 'source\r\n| where StatusCode != 200 // searching for requests that are not successful\r\n| project-away Type, TenantId\r\n' has the following semantic error: 'where' operator: Failed to resolve table or column expression named 'source'.)",
     "output_type": "error",
     "traceback": [
      "Query failed: One or more errors occurred. (Semantic error: 'source\r\n",
      "| where StatusCode != 200 // searching for requests that are not successful\r\n",
      "| project-away Type, TenantId\r\n",
      "' has the following semantic error: 'where' operator: Failed to resolve table or column expression named 'source'.)"
     ]
    }
   ],
   "source": [
    "#!kql-mydatabase\n",
    "source\n",
    "| where StatusCode != 200 // searching for requests that are not successful\n",
    "| project-away Type, TenantId"
   ]
  },
  {
   "cell_type": "code",
   "execution_count": 20,
   "metadata": {
    "dotnet_interactive": {
     "language": "kql"
    },
    "polyglot_notebook": {
     "kernelName": "kql"
    },
    "vscode": {
     "languageId": "polyglot-notebook"
    }
   },
   "outputs": [
    {
     "ename": "Error",
     "evalue": "Query failed: One or more errors occurred. (Semantic error: 'source\r\n| where StatusCode != 200 // searching for requests that are not successful\r\n| project-away Type, TenantId\r\n' has the following semantic error: 'where' operator: Failed to resolve table or column expression named 'source'.)",
     "output_type": "error",
     "traceback": [
      "Query failed: One or more errors occurred. (Semantic error: 'source\r\n",
      "| where StatusCode != 200 // searching for requests that are not successful\r\n",
      "| project-away Type, TenantId\r\n",
      "' has the following semantic error: 'where' operator: Failed to resolve table or column expression named 'source'.)"
     ]
    }
   ],
   "source": [
    "#!kql-mydatabase\n",
    "source\n",
    "| where StatusCode != 200 // searching for requests that are not successful\n",
    "| project-away Type, TenantId"
   ]
  }
 ],
 "metadata": {
  "kernelspec": {
   "display_name": ".NET (C#)",
   "language": "C#",
   "name": ".net-csharp"
  },
  "language_info": {
   "name": "python"
  },
  "polyglot_notebook": {
   "kernelInfo": {
    "defaultKernelName": "csharp",
    "items": [
     {
      "aliases": [],
      "name": "csharp"
     },
     {
      "aliases": [],
      "languageName": "KQL",
      "name": "kql-mydatabase"
     }
    ]
   }
  }
 },
 "nbformat": 4,
 "nbformat_minor": 2
}
